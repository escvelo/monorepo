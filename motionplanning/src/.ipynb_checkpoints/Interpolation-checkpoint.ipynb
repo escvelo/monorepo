{
 "cells": [
  {
   "cell_type": "code",
   "execution_count": 9,
   "metadata": {},
   "outputs": [],
   "source": [
    "from custom_types import *\n",
    "def interpolate(start, end, resolution):\n",
    "    if resolution > 1.0:\n",
    "        raise(\"resolution cannot be greater than 1\")\n",
    "    solution_path = []\n",
    "    for i in range(int(1/resolution)+1):\n",
    "        solution_path.append(start + (vector * resolution* i).toInt())    \n",
    "    return solution_path"
   ]
  },
  {
   "cell_type": "code",
   "execution_count": 2,
   "metadata": {},
   "outputs": [],
   "source": [
    "start = Point2D(0,0)\n",
    "end = Point2D(3,3)\n",
    "resolution = 1/3"
   ]
  },
  {
   "cell_type": "code",
   "execution_count": 12,
   "metadata": {},
   "outputs": [],
   "source": [
    "solution_path = interpolate(start,end,resolution)\n",
    "\n",
    "def next_postion():\n",
    "    for i in range(len(solution_path)):\n",
    "        yield solution_path[i]"
   ]
  },
  {
   "cell_type": "code",
   "execution_count": 6,
   "metadata": {},
   "outputs": [],
   "source": [
    "\n"
   ]
  },
  {
   "cell_type": "code",
   "execution_count": 13,
   "metadata": {},
   "outputs": [
    {
     "name": "stdout",
     "output_type": "stream",
     "text": [
      "[<custom_types.Point2D object at 0x0000016CE7ACC1D0>, <custom_types.Point2D object at 0x0000016CE7025198>, <custom_types.Point2D object at 0x0000016CE7025278>, <custom_types.Point2D object at 0x0000016CE7025390>]\n"
     ]
    }
   ],
   "source": [
    "for path in next_postion():\n",
    "    print(path)"
   ]
  },
  {
   "cell_type": "code",
   "execution_count": null,
   "metadata": {},
   "outputs": [],
   "source": []
  },
  {
   "cell_type": "code",
   "execution_count": null,
   "metadata": {},
   "outputs": [],
   "source": [
    "print((vector * resolution* i).toInt())"
   ]
  },
  {
   "cell_type": "code",
   "execution_count": null,
   "metadata": {},
   "outputs": [],
   "source": []
  }
 ],
 "metadata": {
  "kernelspec": {
   "display_name": "Python 3",
   "language": "python",
   "name": "python3"
  },
  "language_info": {
   "codemirror_mode": {
    "name": "ipython",
    "version": 3
   },
   "file_extension": ".py",
   "mimetype": "text/x-python",
   "name": "python",
   "nbconvert_exporter": "python",
   "pygments_lexer": "ipython3",
   "version": "3.6.10"
  }
 },
 "nbformat": 4,
 "nbformat_minor": 4
}
