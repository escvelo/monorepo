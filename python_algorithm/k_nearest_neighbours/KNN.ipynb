{
 "cells": [
  {
   "cell_type": "code",
   "execution_count": 3,
   "metadata": {},
   "outputs": [],
   "source": [
    "#References:\n",
    "#https://www.geeksforgeeks.org/python-maximum-minimum-elements-position-list/\n",
    "#https://docs.scipy.org/doc/numpy-1.15.0/reference/generated/numpy.sort.html\n",
    "# https://stackoverflow.com/questions/31999317/finding-second-smallest-element-in-array \n",
    "# http://codinghelmet.com/exercises/two-smallest\n",
    "    "
   ]
  },
  {
   "cell_type": "code",
   "execution_count": 4,
   "metadata": {},
   "outputs": [
    {
     "data": {
      "text/plain": [
       "4.0"
      ]
     },
     "execution_count": 4,
     "metadata": {},
     "output_type": "execute_result"
    }
   ],
   "source": [
    "import numpy as np\n",
    "def eu_dist(p,q):\n",
    "    return np.sqrt(np.sum((p-q)**2))\n",
    "\n",
    "p=np.array([1,2,5])\n",
    "q=np.array([1,6,5])\n",
    "eu_dist(p,q)"
   ]
  },
  {
   "cell_type": "code",
   "execution_count": 5,
   "metadata": {},
   "outputs": [
    {
     "data": {
      "text/plain": [
       "(2, 3)"
      ]
     },
     "execution_count": 5,
     "metadata": {},
     "output_type": "execute_result"
    }
   ],
   "source": [
    "np.array([[1,3,4],[5,3,1]]).shape\n"
   ]
  },
  {
   "cell_type": "code",
   "execution_count": 6,
   "metadata": {},
   "outputs": [
    {
     "name": "stdout",
     "output_type": "stream",
     "text": [
      "1\n"
     ]
    }
   ],
   "source": [
    "import numpy as np\n",
    "\n",
    "distances= min(np.array([1,4,30,14,7,8]))\n",
    "print(distances)\n",
    "#id(distances) #Memory location(pointer)\n",
    " \n"
   ]
  },
  {
   "cell_type": "code",
   "execution_count": 7,
   "metadata": {},
   "outputs": [
    {
     "name": "stdout",
     "output_type": "stream",
     "text": [
      "1 9 22 "
     ]
    }
   ],
   "source": [
    "def kMinimumDist(distances, kNearest): \n",
    "    \n",
    "    distances.sort(reverse=False)  \n",
    "    for eachDist in range(kNearest): \n",
    "        print (distances[eachDist],end =\" \")         # end =\" \" prints array horizonally\n",
    "  \n",
    "\n",
    "distances = [1, 23, 32, 9, 30, 22, 50] \n",
    "kNearest = 3 \n",
    "kMinimumDist(distances, kNearest) \n",
    "\n",
    "  "
   ]
  },
  {
   "cell_type": "code",
   "execution_count": 8,
   "metadata": {},
   "outputs": [],
   "source": [
    "# train_data(Xi,Yi)\n",
    "# Xi=features\n",
    "# Yi=Corresponding labels"
   ]
  },
  {
   "cell_type": "code",
   "execution_count": 9,
   "metadata": {},
   "outputs": [
    {
     "name": "stdout",
     "output_type": "stream",
     "text": [
      "[25 16  1  4]\n",
      "minimum distance= 1.0\n",
      "Position of minimum distance = 2\n"
     ]
    }
   ],
   "source": [
    "import math\n",
    "import numpy as np\n",
    "dog_data=[2,3,4,5]\n",
    "dog_labels=[0,0,0,0]\n",
    "cat_data=[6,7,8,9]\n",
    "cat_labels=[1,1,1,1]\n",
    "k=1\n",
    "train_data=np.array([2,3,8,9])\n",
    "train_labels=np.array([0,0,1,1])\n",
    "test_data=np.array([7])\n",
    "difference=np.array(test_data-train_data)**2\n",
    "minimum_distance=min(np.sqrt(difference))\n",
    "print(difference)\n",
    "print(\"minimum distance=\",minimum_distance)\n",
    "index_min = np.argmin(difference)\n",
    "print(\"Position of minimum distance =\",index_min)"
   ]
  },
  {
   "cell_type": "code",
   "execution_count": 10,
   "metadata": {},
   "outputs": [
    {
     "data": {
      "text/plain": [
       "{2: 0, 3: 0, 8: 1, 9: 1}"
      ]
     },
     "execution_count": 10,
     "metadata": {},
     "output_type": "execute_result"
    }
   ],
   "source": [
    "mapper=dict(zip(train_data, train_labels))\n",
    "mapper"
   ]
  },
  {
   "cell_type": "code",
   "execution_count": null,
   "metadata": {},
   "outputs": [],
   "source": []
  },
  {
   "cell_type": "code",
   "execution_count": 11,
   "metadata": {},
   "outputs": [
    {
     "name": "stdout",
     "output_type": "stream",
     "text": [
      "0 1\n",
      "1 4\n",
      "2 2\n",
      "3 4\n",
      "4 -1\n",
      "5 8\n"
     ]
    }
   ],
   "source": [
    "import numpy as np\n",
    "test_array = np.array([1,4,2,4,-1,8])\n",
    "for i,element in enumerate(test_array):\n",
    "    # write code to find (i) which contains min value\n",
    "    min(test_array)\n",
    "    print (i,element)\n",
    "#found_min_at_array = 4 is output for above statement\n",
    "#print (test_array[found_min_at_index] == -1)"
   ]
  },
  {
   "cell_type": "code",
   "execution_count": 15,
   "metadata": {},
   "outputs": [
    {
     "ename": "NameError",
     "evalue": "name 'minimum_element' is not defined",
     "output_type": "error",
     "traceback": [
      "\u001b[1;31m---------------------------------------------------------------------------\u001b[0m",
      "\u001b[1;31mNameError\u001b[0m                                 Traceback (most recent call last)",
      "\u001b[1;32m<ipython-input-15-bd9f66d34053>\u001b[0m in \u001b[0;36m<module>\u001b[1;34m()\u001b[0m\n\u001b[0;32m      4\u001b[0m \u001b[1;32mfor\u001b[0m \u001b[0mi\u001b[0m\u001b[1;33m,\u001b[0m\u001b[0melement\u001b[0m \u001b[1;32min\u001b[0m \u001b[0menumerate\u001b[0m\u001b[1;33m(\u001b[0m\u001b[0mtest_array\u001b[0m\u001b[1;33m)\u001b[0m\u001b[1;33m:\u001b[0m\u001b[1;33m\u001b[0m\u001b[0m\n\u001b[0;32m      5\u001b[0m \u001b[1;33m\u001b[0m\u001b[0m\n\u001b[1;32m----> 6\u001b[1;33m     \u001b[0mprint\u001b[0m \u001b[1;33m(\u001b[0m\u001b[0mtest_array\u001b[0m\u001b[1;33m[\u001b[0m\u001b[0mminimum_element\u001b[0m\u001b[1;33m]\u001b[0m\u001b[1;33m)\u001b[0m\u001b[1;33m\u001b[0m\u001b[0m\n\u001b[0m",
      "\u001b[1;31mNameError\u001b[0m: name 'minimum_element' is not defined"
     ]
    }
   ],
   "source": [
    "import numpy as np\n",
    "test_array = np.array([1,4,2,4,-1,8])\n",
    "\n",
    "for i,element in enumerate(test_array):\n",
    "    \n",
    "    print (test_array[minimum_element])\n"
   ]
  },
  {
   "cell_type": "code",
   "execution_count": 16,
   "metadata": {},
   "outputs": [
    {
     "data": {
      "text/plain": [
       "4"
      ]
     },
     "execution_count": 16,
     "metadata": {},
     "output_type": "execute_result"
    }
   ],
   "source": [
    "test_array =[1,4,2,4,-1,8]\n",
    "test_array.index(min(test_array))          #https://www.geeksforgeeks.org/python-maximum-minimum-elements-position-list/"
   ]
  },
  {
   "cell_type": "code",
   "execution_count": 17,
   "metadata": {},
   "outputs": [],
   "source": [
    "# Tuesday ,    19.02.2019"
   ]
  },
  {
   "cell_type": "code",
   "execution_count": 18,
   "metadata": {},
   "outputs": [
    {
     "name": "stdout",
     "output_type": "stream",
     "text": [
      "[ 25  16   1   4 144  16 169]\n",
      "[  1   4  16  16  25 144 169]\n",
      "minimum distance= 1.0\n",
      "Position of minimum distance = 2\n"
     ]
    }
   ],
   "source": [
    "import math\n",
    "import numpy as np\n",
    "dog_data=[2,3,4,5,15,19,20]\n",
    "dog_labels=[0,0,0,0,0,0,0]\n",
    "cat_data=[6,7,8,9,13,11,16]\n",
    "cat_labels=[1,1,1,1,1,1,1]\n",
    "k=1\n",
    "train_data=np.array([2,3,8,9,19,11,20])\n",
    "train_labels=np.array([0,0,1,1,0,1,0])\n",
    "test_data=np.array([7])\n",
    "difference=np.array(test_data-train_data)**2\n",
    "minimum_distance=min(np.sqrt(difference))\n",
    "sorted_array=np.sort(difference)                #https://docs.scipy.org/doc/numpy-1.15.0/reference/generated/numpy.sort.html\n",
    "print(difference)\n",
    "print(sorted_array)\n",
    "print(\"minimum distance=\",minimum_distance)\n",
    "index_min = np.argmin(difference)\n",
    "print(\"Position of minimum distance =\",index_min)"
   ]
  },
  {
   "cell_type": "code",
   "execution_count": 19,
   "metadata": {},
   "outputs": [
    {
     "name": "stdout",
     "output_type": "stream",
     "text": [
      "1 4 16 \n",
      " Position of First minimum distance = 0\n",
      "Position of Second minimum distance = 1\n",
      "Position of Third minimum distance = 2\n"
     ]
    }
   ],
   "source": [
    " def kMinimumDist(distances, kNearest): \n",
    "    \n",
    "    distances.sort(reverse=False)  \n",
    "    for eachDist in range(kNearest): \n",
    "        print (distances[eachDist],end =\" \")  \n",
    "   \n",
    "distances = [25,16,1,4,144,16,169] \n",
    "kNearest = 3 \n",
    "kMinimumDist(distances, kNearest) \n",
    "first_min=distances.index(min(distances))\n",
    "print(\"\\n Position of First minimum distance =\",first_min)\n",
    "print(\"Position of Second minimum distance =\",first_min+1)\n",
    "print(\"Position of Third minimum distance =\",first_min+2)\n",
    "\n",
    "\n",
    "    "
   ]
  },
  {
   "cell_type": "code",
   "execution_count": 20,
   "metadata": {},
   "outputs": [
    {
     "data": {
      "text/plain": [
       "array([  8,   1, 100])"
      ]
     },
     "execution_count": 20,
     "metadata": {},
     "output_type": "execute_result"
    }
   ],
   "source": [
    "import numpy as np\n",
    "temp=np.array([1,5,3,8,10,100,25])\n",
    "\n",
    "indexes=[3,0,5]\n",
    "\n",
    "temp[indexes]"
   ]
  },
  {
   "cell_type": "code",
   "execution_count": 21,
   "metadata": {},
   "outputs": [],
   "source": [
    "# Wednesday 20.02.2019"
   ]
  },
  {
   "cell_type": "code",
   "execution_count": 22,
   "metadata": {},
   "outputs": [],
   "source": [
    "# import numpy as np\n",
    "# temp=np.array([25,16,1,4,144,16,169])\n",
    "# k=4\n",
    "# labels[np.argsort(temp)[0:k]]\n",
    "\n"
   ]
  },
  {
   "cell_type": "code",
   "execution_count": 23,
   "metadata": {},
   "outputs": [
    {
     "name": "stdout",
     "output_type": "stream",
     "text": [
      "minimum number in an array = -1\n"
     ]
    }
   ],
   "source": [
    "import numpy as np\n",
    "numbers=np.array([25,16,1,4,144,-1])\n",
    "min_number=numbers[0]\n",
    "for element in range(len(numbers)):\n",
    "    if numbers[element]<min_number:\n",
    "        min_number=numbers[element]\n",
    "print(\"minimum number in an array =\",min_number)          "
   ]
  },
  {
   "cell_type": "code",
   "execution_count": 24,
   "metadata": {},
   "outputs": [],
   "source": [
    "#Thursday, 21.02.2019"
   ]
  },
  {
   "cell_type": "code",
   "execution_count": 25,
   "metadata": {},
   "outputs": [
    {
     "name": "stdout",
     "output_type": "stream",
     "text": [
      "First minimum number=  1\n",
      "Second minimum number=  4\n"
     ]
    }
   ],
   "source": [
    "import numpy as np\n",
    "numbers=np.array([25,16,1,4,144,169])\n",
    "first_min=numbers[0]\n",
    "second_min=numbers[1]\n",
    "if second_min<first_min:\n",
    "    first_min=numbers[1]\n",
    "    second_min=numbers[0]\n",
    "for i in range(len(numbers)):\n",
    "    if numbers[i]<first_min:\n",
    "        second_min=first_min\n",
    "        first_min=numbers[i]\n",
    "    elif numbers[i]<second_min:\n",
    "        second_min=numbers[i]\n",
    "print(\"First minimum number= \",first_min)    \n",
    "print(\"Second minimum number= \",second_min)\n",
    "        \n",
    "\n",
    " "
   ]
  },
  {
   "cell_type": "code",
   "execution_count": 26,
   "metadata": {},
   "outputs": [
    {
     "data": {
      "text/plain": [
       "array([1, 2, 0], dtype=int64)"
      ]
     },
     "execution_count": 26,
     "metadata": {},
     "output_type": "execute_result"
    }
   ],
   "source": [
    " x = np.array([3, 1, 2])\n",
    "np.argsort(x)"
   ]
  },
  {
   "cell_type": "code",
   "execution_count": 27,
   "metadata": {},
   "outputs": [
    {
     "name": "stdout",
     "output_type": "stream",
     "text": [
      "Array of Euclidean Distances=  [ 25  16   1   4 144  16 169]\n",
      "Train Labels [0 0 1 1 0 1 0]\n",
      "Sorted = [  1   4  16  16  25 144 169]\n",
      "Corresponding Labels when k=3   [1 1 0]\n"
     ]
    }
   ],
   "source": [
    "import math\n",
    "import numpy as np\n",
    "dog_data=[2,3,4,5,15,19,20]\n",
    "dog_labels=[0,0,0,0,0,0,0]\n",
    "cat_data=[6,7,8,9,13,11,16]\n",
    "cat_labels=[1,1,1,1,1,1,1]\n",
    "\n",
    "# Convert below lines into function\n",
    "k=3\n",
    "train_data=np.array([2,3,8,9,19,11,20])\n",
    "train_labels=np.array([0,0,1,1,0,1,0])\n",
    "test_data=np.array([7])\n",
    "difference=np.array(test_data-train_data)**2 # naming wrong\n",
    "np.argsort(difference)               #https://docs.scipy.org/doc/numpy-1.15.0/reference/generated/numpy.sort.html\n",
    "#comment required\n",
    "Labels=train_labels[np.argsort(difference)[0:k]] #naming wrong kNearest_labels\n",
    "sorted_array=np.sort(difference) # wrong naming sorted_EuDist\n",
    "\n",
    "print(\"Array of Euclidean Distances= \",difference)\n",
    "print(\"Train Labels\", train_labels)\n",
    "print(\"Sorted =\",sorted_array)\n",
    "print(\"Corresponding Labels when k=3  \",Labels)\n",
    "\n",
    "#Work required. Output is label for test point\n",
    "\n"
   ]
  },
  {
   "cell_type": "code",
   "execution_count": 28,
   "metadata": {},
   "outputs": [
    {
     "name": "stdout",
     "output_type": "stream",
     "text": [
      "(7,)\n",
      "[[ 2]\n",
      " [ 3]\n",
      " [ 8]\n",
      " [ 9]\n",
      " [19]\n",
      " [11]\n",
      " [20]]\n",
      "(7, 1)\n"
     ]
    },
    {
     "data": {
      "text/plain": [
       "array([[ 16],\n",
       "       [  9],\n",
       "       [  4],\n",
       "       [  9],\n",
       "       [169],\n",
       "       [ 25],\n",
       "       [196]], dtype=int32)"
      ]
     },
     "execution_count": 28,
     "metadata": {},
     "output_type": "execute_result"
    }
   ],
   "source": [
    "import numpy as np\n",
    "train_data=np.array([2,3,8,9,19,11,20])\n",
    "print(train_data.shape)\n",
    "train_data=train_data[:,np.newaxis]\n",
    "\n",
    "print (train_data)\n",
    "print(train_data.shape)\n",
    "test_data=np.array([6])\n",
    "(test_data[:,np.newaxis] - train_data)**2"
   ]
  },
  {
   "cell_type": "code",
   "execution_count": 29,
   "metadata": {},
   "outputs": [
    {
     "name": "stdout",
     "output_type": "stream",
     "text": [
      "I'm first call to user defined function!\n",
      "Again second call to the same function\n"
     ]
    }
   ],
   "source": [
    "# Function definition is here\n",
    "def printme( str ):\n",
    "   \"This prints a passed string into this function\"\n",
    "   print (str)\n",
    "   return;\n",
    "\n",
    "# Now you can call printme function\n",
    "printme(\"I'm first call to user defined function!\")\n",
    "printme(\"Again second call to the same function\")"
   ]
  },
  {
   "cell_type": "code",
   "execution_count": 30,
   "metadata": {},
   "outputs": [],
   "source": [
    "#27.02.2019"
   ]
  },
  {
   "cell_type": "code",
   "execution_count": 31,
   "metadata": {},
   "outputs": [
    {
     "name": "stdout",
     "output_type": "stream",
     "text": [
      "80\n"
     ]
    }
   ],
   "source": [
    "def additionOf2numbers(a,b):\n",
    "    result=a+b\n",
    "    print(result)\n",
    "\n",
    "additionOf2numbers(30,50)"
   ]
  },
  {
   "cell_type": "code",
   "execution_count": 32,
   "metadata": {},
   "outputs": [
    {
     "name": "stdout",
     "output_type": "stream",
     "text": [
      "50\n",
      "Result Outside = 35\n"
     ]
    }
   ],
   "source": [
    "def additionOf2numbers(a,b):\n",
    "    a=45\n",
    "    b=5\n",
    "    result=a+b\n",
    "    print(result)\n",
    "\n",
    "additionOf2numbers(30,5)\n",
    "result= 30+5\n",
    "print(\"Result Outside =\",result)"
   ]
  },
  {
   "cell_type": "code",
   "execution_count": 33,
   "metadata": {},
   "outputs": [
    {
     "name": "stdout",
     "output_type": "stream",
     "text": [
      "First minimum number=  1\n",
      "Second minimum number=  4\n"
     ]
    }
   ],
   "source": [
    "import numpy as np\n",
    "\n",
    "\n",
    "def minimumNumbers(numbers):\n",
    "    first_min=numbers[0]\n",
    "    second_min=numbers[1]\n",
    "    if second_min<first_min:\n",
    "        first_min=numbers[1]\n",
    "        second_min=numbers[0]\n",
    "    for i in range(len(numbers)):\n",
    "        if numbers[i]<first_min:\n",
    "            second_min=first_min\n",
    "            first_min=numbers[i]\n",
    "        elif numbers[i]<second_min:\n",
    "            second_min=numbers[i]\n",
    "    print(\"First minimum number= \",first_min)    \n",
    "    print(\"Second minimum number= \",second_min)\n",
    "\n",
    "numbers=np.array([25,16,1,4,144,169])            \n",
    "minimumNumbers(numbers)            \n",
    "\n",
    "\n",
    "\n",
    "\n",
    "\n"
   ]
  },
  {
   "cell_type": "code",
   "execution_count": null,
   "metadata": {},
   "outputs": [],
   "source": []
  },
  {
   "cell_type": "code",
   "execution_count": 44,
   "metadata": {},
   "outputs": [
    {
     "name": "stdout",
     "output_type": "stream",
     "text": [
      "Array of Euclidean Distances=  [ 25  16   1   4 144  16 169]\n",
      "Train Labels [0 0 1 1 0 1 0]\n",
      "Sorted = [  1   4  16  16  25 144 169]\n",
      "Corresponding Labels when k=3   [1 1 0]\n",
      "Counted labels= Counter({1: 2, 0: 1})\n"
     ]
    }
   ],
   "source": [
    "import math\n",
    "import numpy as np\n",
    "import collections\n",
    "from collections import Counter\n",
    "\n",
    "dog_data=[2,3,4,5,15,19,20]\n",
    "dog_labels=[0,0,0,0,0,0,0]\n",
    "cat_data=[6,7,8,9,13,11,16]\n",
    "cat_labels=[1,1,1,1,1,1,1]\n",
    "\n",
    "# Convert below lines into function\n",
    "k=3\n",
    "train_data=np.array([2,3,8,9,19,11,20])\n",
    "train_labels=np.array([0,0,1,1,0,1,0])\n",
    "test_data=np.array([7])\n",
    "\n",
    "\n",
    "def KNN_algo(test_data,k):\n",
    "    # See python coding guidelines and makes notes for below (Google coding guidelines)\n",
    "    \n",
    "    # First set of notations (dtype basis)\n",
    "        \n",
    "        #if scalar ?   See python coding guidelines. naming of variables - vector, scalar and multidimentional ? look for notations\n",
    "        #if vector ?    \n",
    "        #if multidimentinal ?\n",
    "        #constant ?\n",
    "        \n",
    "        #dict \n",
    "        #tuple\n",
    "        #list\n",
    "        \n",
    "    # function naming (notations) \n",
    "    \n",
    "    # scope based notations\n",
    "        #local scope ?\n",
    "        #global scope ?\n",
    "    \n",
    "    EuclideanDist=np.sqrt(np.array(test_data-train_data)**2) # E small letter\n",
    "                #https://docs.scipy.org/doc/numpy-1.15.0/reference/generated/numpy.sort.html\n",
    "#comment required\n",
    "    kNearest_labels=train_labels[np.argsort(EuclideanDist)[0:k]] \n",
    "    sorted_EuDist=np.sort(EuclideanDist)\n",
    "    counted_labels= collections.Counter(kNearest_labels)  #https://pymotw.com/2/collections/counter.html\n",
    "    \n",
    "\n",
    "    print(\"Array of Euclidean Distances= \",EuclideanDist)\n",
    "    print(\"Train Labels\", train_labels)\n",
    "    print(\"Sorted =\",sorted_EuDist)\n",
    "    print(\"Corresponding Labels when k=3  \",kNearest_labels)\n",
    "    print(\"Counted labels=\",counted_labels)\n",
    "\n",
    "\n",
    "KNN_algo(test_data,k)\n",
    "\n",
    "#Work required. Output is label for test point\n"
   ]
  },
  {
   "cell_type": "code",
   "execution_count": null,
   "metadata": {},
   "outputs": [],
   "source": [
    "#  https://stackoverflow.com/questions/48035298/is-there-a-naming-convention-to-distinguish-scalar-and-vectors\n",
    "\n",
    "# https://www.python.org/dev/peps/pep-0008/#global-variable-names\n",
    "\n",
    "# module_name, package_name, ClassName, method_name, ExceptionName,\n",
    "# function_name, GLOBAL_CONSTANT_NAME, global_var_name, instance_var_name,\n",
    "# function_parameter_name, local_var_name\n",
    "\n",
    "# Constants:\n",
    "# Constants are usually defined on a module level and written in all capital letters with underscores separating words. \n",
    "# Examples include MAX_OVERFLOW and TOTAL.\n",
    "\n",
    "\n",
    "\n",
    "# Naming Conventions:\n",
    "    \n",
    "# Module names should be lowercase with underscores instead of spaces. ...\n",
    "# Variable names and function/method names should also be lowercase with underscores to separate words.\n",
    "# Class names should be CamelCase (uppercase letter to start with, words run together, each starting with an uppercase letter)\n",
    "\n",
    "\n",
    "# Function and Variable Names:\n",
    "    \n",
    "# Function names should be lowercase, with words separated by underscores as necessary to improve readability.\n",
    "\n",
    "# Variable names follow the same convention as function names.\n",
    "\n",
    "# mixedCase is allowed only in contexts where that's already the prevailing style (e.g. threading.py), to retain backwards compatibility."
   ]
  },
  {
   "cell_type": "code",
   "execution_count": 9,
   "metadata": {},
   "outputs": [
    {
     "name": "stdout",
     "output_type": "stream",
     "text": [
      "Array of Euclidean Distances=  [ 5.  4.  1.  2. 12.  4. 13.]\n",
      "Train Labels [0 0 1 1 0 1 0]\n",
      "Sorted = [ 1.  2.  4.  4.  5. 12. 13.]\n",
      "Corresponding Labels when k=3   [1 1 0]\n",
      "Counted labels= Counter({1: 2, 0: 1})\n",
      "1\n",
      "predicted result = cat\n"
     ]
    }
   ],
   "source": [
    "import math\n",
    "import numpy as np\n",
    "import collections\n",
    "from collections import Counter\n",
    "\n",
    "dog_data=[2,3,4,5,15,19,20]\n",
    "dog_labels=[0,0,0,0,0,0,0]\n",
    "cat_data=[6,7,8,9,13,11,16]\n",
    "cat_labels=[1,1,1,1,1,1,1]\n",
    "\n",
    "\n",
    "K=3\n",
    "train_data=np.array([2,3,8,9,19,11,20])\n",
    "train_labels=np.array([0,0,1,1,0,1,0])\n",
    "test_data=np.array([7])\n",
    "\n",
    "\n",
    "def knn_algo(test_data,K):\n",
    "    \n",
    "    euclidean_dist=np.sqrt(np.array(test_data-train_data)**2) \n",
    "     \n",
    "    knearest_labels=train_labels[np.argsort(euclidean_dist)[0:K]] \n",
    "    \n",
    "    sorted_eu_dist=np.sort(euclidean_dist)\n",
    "    counted_labels= collections.Counter(knearest_labels)  #https://pymotw.com/2/collections/counter.html\n",
    "    result=max(counted_labels, key=counted_labels.get)\n",
    "\n",
    "    print(\"Array of Euclidean Distances= \",euclidean_dist)\n",
    "    print(\"Train Labels\", train_labels)\n",
    "    print(\"Sorted =\",sorted_eu_dist)\n",
    "    print(\"Corresponding Labels when k=3  \",knearest_labels)\n",
    "    print(\"Counted labels=\",counted_labels)\n",
    "    print(result)\n",
    "    \n",
    "    if result==0:\n",
    "        print(\"predicted result = {}\".format(\"dog\"))\n",
    "    else:\n",
    "        print(\"predicted result = {}\".format(\"cat\"))\n",
    "\n",
    "knn_algo(test_data,K)\n",
    "\n",
    "\n",
    "\n",
    "#Work required. Output is label for test point\n"
   ]
  },
  {
   "cell_type": "code",
   "execution_count": 10,
   "metadata": {},
   "outputs": [
    {
     "name": "stdout",
     "output_type": "stream",
     "text": [
      "predicted result = cat\n"
     ]
    }
   ],
   "source": [
    "import math\n",
    "import numpy as np\n",
    "import collections\n",
    "from collections import Counter\n",
    "\n",
    "dog_data=[2,3,4,5,15,19,20]\n",
    "dog_labels=[0,0,0,0,0,0,0]\n",
    "cat_data=[6,7,8,9,13,11,16]\n",
    "cat_labels=[1,1,1,1,1,1,1]\n",
    "\n",
    "\n",
    "K=3\n",
    "train_data=np.array([2,3,8,9,19,11,20])\n",
    "train_labels=np.array([0,0,1,1,0,1,0])\n",
    "test_data=np.array([7])\n",
    "\n",
    "\"\"\"  NEXT TASKS\n",
    "    1. Make it work for any dimensionality of test data, train data and input data.\n",
    "    2. \n",
    "\"\"\"\n",
    "\n",
    "def knn_algo(test_data,K):\n",
    "    # euclidean distances from test data point to all train data points\n",
    "    euclidean_dist = np.sqrt( np.array( test_data-train_data )**2 ) \n",
    "     \n",
    "    knearest_labels = train_labels[ np.argsort(euclidean_dist)[0:K] ] # knearest_train_labels would be better\n",
    "    \n",
    "    sorted_eu_dist = np.sort(euclidean_dist) # distance has to be plural if list\n",
    "    counted_labels = collections.Counter(knearest_labels)  #https://pymotw.com/2/collections/counter.html\n",
    "    result = max(counted_labels, key=counted_labels.get)\n",
    "\n",
    "#     print(\"Array of Euclidean Distances= \",euclidean_dist)\n",
    "#     print(\"Train Labels\", train_labels)\n",
    "#     print(\"Sorted =\",sorted_eu_dist)\n",
    "#     print(\"Corresponding Labels when k=3  \",knearest_labels)\n",
    "#     print(\"Counted labels=\",counted_labels)\n",
    "#     print(result)\n",
    "    \n",
    "    if result==0:\n",
    "        print(\"predicted result = {}\".format(\"dog\"))\n",
    "    else:\n",
    "        print(\"predicted result = {}\".format(\"cat\"))\n",
    "\n",
    "knn_algo(test_data,K)\n",
    "\n",
    "\n",
    "\n"
   ]
  },
  {
   "cell_type": "code",
   "execution_count": 1,
   "metadata": {},
   "outputs": [
    {
     "name": "stdout",
     "output_type": "stream",
     "text": [
      "1 2 3 4 \n",
      "5 6 \n",
      "7 8 9 \n"
     ]
    }
   ],
   "source": [
    "a = [[1, 2, 3, 4], [5, 6], [7, 8, 9]]\n",
    "for i in range(len(a)):\n",
    "    for j in range(len(a[i])):\n",
    "        print(a[i][j], end=' ')\n",
    "    print()"
   ]
  },
  {
   "cell_type": "code",
   "execution_count": 10,
   "metadata": {},
   "outputs": [
    {
     "name": "stdout",
     "output_type": "stream",
     "text": [
      "[1, 2, 3]\n",
      "[5, 6, 6]\n",
      "[7, 8, 9]\n"
     ]
    }
   ],
   "source": [
    "a=[[1,2,3], [5,6,6], [7,8,9]]\n",
    "for i in range(len(a[i])):\n",
    "    print(a[i])"
   ]
  },
  {
   "cell_type": "code",
   "execution_count": 40,
   "metadata": {},
   "outputs": [
    {
     "ename": "TypeError",
     "evalue": "unhashable type: 'numpy.ndarray'",
     "output_type": "error",
     "traceback": [
      "\u001b[1;31m---------------------------------------------------------------------------\u001b[0m",
      "\u001b[1;31mTypeError\u001b[0m                                 Traceback (most recent call last)",
      "\u001b[1;32m<ipython-input-40-930aba9c6251>\u001b[0m in \u001b[0;36m<module>\u001b[1;34m()\u001b[0m\n\u001b[0;32m     39\u001b[0m         \u001b[0mprint\u001b[0m\u001b[1;33m(\u001b[0m\u001b[1;34m\"predicted result = {}\"\u001b[0m\u001b[1;33m.\u001b[0m\u001b[0mformat\u001b[0m\u001b[1;33m(\u001b[0m\u001b[1;34m\"cat\"\u001b[0m\u001b[1;33m)\u001b[0m\u001b[1;33m)\u001b[0m\u001b[1;33m\u001b[0m\u001b[0m\n\u001b[0;32m     40\u001b[0m \u001b[1;33m\u001b[0m\u001b[0m\n\u001b[1;32m---> 41\u001b[1;33m \u001b[0mknn_algo\u001b[0m\u001b[1;33m(\u001b[0m\u001b[0mtest_data\u001b[0m\u001b[1;33m,\u001b[0m\u001b[0mK\u001b[0m\u001b[1;33m)\u001b[0m\u001b[1;33m\u001b[0m\u001b[0m\n\u001b[0m",
      "\u001b[1;32m<ipython-input-40-930aba9c6251>\u001b[0m in \u001b[0;36mknn_algo\u001b[1;34m(test_data, K)\u001b[0m\n\u001b[0;32m     24\u001b[0m \u001b[1;33m\u001b[0m\u001b[0m\n\u001b[0;32m     25\u001b[0m     \u001b[0msorted_eu_dist\u001b[0m \u001b[1;33m=\u001b[0m \u001b[0mnp\u001b[0m\u001b[1;33m.\u001b[0m\u001b[0msort\u001b[0m\u001b[1;33m(\u001b[0m\u001b[0meuclidean_dist\u001b[0m\u001b[1;33m)\u001b[0m \u001b[1;31m# distance has to be plural if list\u001b[0m\u001b[1;33m\u001b[0m\u001b[0m\n\u001b[1;32m---> 26\u001b[1;33m     \u001b[0mcounted_labels\u001b[0m \u001b[1;33m=\u001b[0m \u001b[0mcollections\u001b[0m\u001b[1;33m.\u001b[0m\u001b[0mCounter\u001b[0m\u001b[1;33m(\u001b[0m\u001b[0mknearest_labels\u001b[0m\u001b[1;33m)\u001b[0m  \u001b[1;31m#https://pymotw.com/2/collections/counter.html\u001b[0m\u001b[1;33m\u001b[0m\u001b[0m\n\u001b[0m\u001b[0;32m     27\u001b[0m     \u001b[0mresult\u001b[0m \u001b[1;33m=\u001b[0m \u001b[0mmax\u001b[0m\u001b[1;33m(\u001b[0m\u001b[0mcounted_labels\u001b[0m\u001b[1;33m,\u001b[0m \u001b[0mkey\u001b[0m\u001b[1;33m=\u001b[0m\u001b[0mcounted_labels\u001b[0m\u001b[1;33m.\u001b[0m\u001b[0mget\u001b[0m\u001b[1;33m)\u001b[0m\u001b[1;33m\u001b[0m\u001b[0m\n\u001b[0;32m     28\u001b[0m \u001b[1;33m\u001b[0m\u001b[0m\n",
      "\u001b[1;32m~\\Anaconda3\\lib\\collections\\__init__.py\u001b[0m in \u001b[0;36m__init__\u001b[1;34m(*args, **kwds)\u001b[0m\n\u001b[0;32m    564\u001b[0m             \u001b[1;32mraise\u001b[0m \u001b[0mTypeError\u001b[0m\u001b[1;33m(\u001b[0m\u001b[1;34m'expected at most 1 arguments, got %d'\u001b[0m \u001b[1;33m%\u001b[0m \u001b[0mlen\u001b[0m\u001b[1;33m(\u001b[0m\u001b[0margs\u001b[0m\u001b[1;33m)\u001b[0m\u001b[1;33m)\u001b[0m\u001b[1;33m\u001b[0m\u001b[0m\n\u001b[0;32m    565\u001b[0m         \u001b[0msuper\u001b[0m\u001b[1;33m(\u001b[0m\u001b[0mCounter\u001b[0m\u001b[1;33m,\u001b[0m \u001b[0mself\u001b[0m\u001b[1;33m)\u001b[0m\u001b[1;33m.\u001b[0m\u001b[0m__init__\u001b[0m\u001b[1;33m(\u001b[0m\u001b[1;33m)\u001b[0m\u001b[1;33m\u001b[0m\u001b[0m\n\u001b[1;32m--> 566\u001b[1;33m         \u001b[0mself\u001b[0m\u001b[1;33m.\u001b[0m\u001b[0mupdate\u001b[0m\u001b[1;33m(\u001b[0m\u001b[1;33m*\u001b[0m\u001b[0margs\u001b[0m\u001b[1;33m,\u001b[0m \u001b[1;33m**\u001b[0m\u001b[0mkwds\u001b[0m\u001b[1;33m)\u001b[0m\u001b[1;33m\u001b[0m\u001b[0m\n\u001b[0m\u001b[0;32m    567\u001b[0m \u001b[1;33m\u001b[0m\u001b[0m\n\u001b[0;32m    568\u001b[0m     \u001b[1;32mdef\u001b[0m \u001b[0m__missing__\u001b[0m\u001b[1;33m(\u001b[0m\u001b[0mself\u001b[0m\u001b[1;33m,\u001b[0m \u001b[0mkey\u001b[0m\u001b[1;33m)\u001b[0m\u001b[1;33m:\u001b[0m\u001b[1;33m\u001b[0m\u001b[0m\n",
      "\u001b[1;32m~\\Anaconda3\\lib\\collections\\__init__.py\u001b[0m in \u001b[0;36mupdate\u001b[1;34m(*args, **kwds)\u001b[0m\n\u001b[0;32m    651\u001b[0m                     \u001b[0msuper\u001b[0m\u001b[1;33m(\u001b[0m\u001b[0mCounter\u001b[0m\u001b[1;33m,\u001b[0m \u001b[0mself\u001b[0m\u001b[1;33m)\u001b[0m\u001b[1;33m.\u001b[0m\u001b[0mupdate\u001b[0m\u001b[1;33m(\u001b[0m\u001b[0miterable\u001b[0m\u001b[1;33m)\u001b[0m \u001b[1;31m# fast path when counter is empty\u001b[0m\u001b[1;33m\u001b[0m\u001b[0m\n\u001b[0;32m    652\u001b[0m             \u001b[1;32melse\u001b[0m\u001b[1;33m:\u001b[0m\u001b[1;33m\u001b[0m\u001b[0m\n\u001b[1;32m--> 653\u001b[1;33m                 \u001b[0m_count_elements\u001b[0m\u001b[1;33m(\u001b[0m\u001b[0mself\u001b[0m\u001b[1;33m,\u001b[0m \u001b[0miterable\u001b[0m\u001b[1;33m)\u001b[0m\u001b[1;33m\u001b[0m\u001b[0m\n\u001b[0m\u001b[0;32m    654\u001b[0m         \u001b[1;32mif\u001b[0m \u001b[0mkwds\u001b[0m\u001b[1;33m:\u001b[0m\u001b[1;33m\u001b[0m\u001b[0m\n\u001b[0;32m    655\u001b[0m             \u001b[0mself\u001b[0m\u001b[1;33m.\u001b[0m\u001b[0mupdate\u001b[0m\u001b[1;33m(\u001b[0m\u001b[0mkwds\u001b[0m\u001b[1;33m)\u001b[0m\u001b[1;33m\u001b[0m\u001b[0m\n",
      "\u001b[1;31mTypeError\u001b[0m: unhashable type: 'numpy.ndarray'"
     ]
    }
   ],
   "source": [
    "import math\n",
    "import numpy as np\n",
    "import collections\n",
    "from collections import Counter\n",
    "\n",
    "dog_data=[[2,3,4,5,15,19,20],[1,2,4,5,7,86,9]]\n",
    "dog_labels=[0,0,0,0,0,0,0]\n",
    "cat_data=[[6,7,8,9,13,11,16],[5,8,74,16,3,48,13]]\n",
    "cat_labels=[1,1,1,1,1,1,1]\n",
    "\n",
    "\n",
    "K=3\n",
    "train_data=np.array([(2,3,8,9,19,11,20),(2,1,26,33,35,6,10)])\n",
    "train_labels=np.array([0,0,1,1,0,1,0])\n",
    "test_data=np.array([14,2,44,88,55,32,11])\n",
    "\n",
    "\n",
    "\n",
    "def knn_algo(test_data,K):\n",
    "    # euclidean distances from test data point to all train data points\n",
    "    euclidean_dist = np.sqrt( np.array( test_data-train_data )**2 ) \n",
    "     \n",
    "    knearest_labels = train_labels[ np.argsort(euclidean_dist)[0:K] ] # knearest_train_labels would be better\n",
    "    \n",
    "    sorted_eu_dist = np.sort(euclidean_dist) # distance has to be plural if list\n",
    "    counted_labels = collections.Counter(knearest_labels)  #https://pymotw.com/2/collections/counter.html\n",
    "    result = max(counted_labels, key=counted_labels.get)\n",
    "\n",
    "#     print(\"Array of Euclidean Distances= \",euclidean_dist)\n",
    "#     print(\"Train Labels\", train_labels)\n",
    "#     print(\"Sorted =\",sorted_eu_dist)\n",
    "#     print(\"Corresponding Labels when k=3  \",knearest_labels)\n",
    "#     print(\"Counted labels=\",counted_labels)\n",
    "#     print(result)\n",
    "    \n",
    "    if result==0:\n",
    "        print(\"predicted result = {}\".format(\"dog\"))\n",
    "    else:\n",
    "        print(\"predicted result = {}\".format(\"cat\"))\n",
    "\n",
    "knn_algo(test_data,K)\n"
   ]
  },
  {
   "cell_type": "code",
   "execution_count": 41,
   "metadata": {},
   "outputs": [],
   "source": [
    " euclidean_dist = np.sqrt( np.array( test_data-train_data )**2 )\n"
   ]
  },
  {
   "cell_type": "code",
   "execution_count": 44,
   "metadata": {},
   "outputs": [
    {
     "name": "stdout",
     "output_type": "stream",
     "text": [
      "[[12.  1. 36. 79. 36. 21.  9.]\n",
      " [12.  1. 18. 55. 20. 26.  1.]]\n",
      "[14  2 44 88 55 32 11]\n",
      "[[ 2  3  8  9 19 11 20]\n",
      " [ 2  1 26 33 35  6 10]]\n"
     ]
    }
   ],
   "source": [
    "print(euclidean_dist)\n",
    "print(test_data)\n",
    "print(train_data)"
   ]
  },
  {
   "cell_type": "code",
   "execution_count": 31,
   "metadata": {},
   "outputs": [],
   "source": [
    "a = np.array([(1, 2, 3),(4,5,6)])\n",
    "b = np.array([2, 2, 2])"
   ]
  },
  {
   "cell_type": "code",
   "execution_count": 32,
   "metadata": {},
   "outputs": [
    {
     "data": {
      "text/plain": [
       "(2, 3)"
      ]
     },
     "execution_count": 32,
     "metadata": {},
     "output_type": "execute_result"
    }
   ],
   "source": [
    "\n"
   ]
  },
  {
   "cell_type": "code",
   "execution_count": 33,
   "metadata": {},
   "outputs": [
    {
     "data": {
      "text/plain": [
       "(3,)"
      ]
     },
     "execution_count": 33,
     "metadata": {},
     "output_type": "execute_result"
    }
   ],
   "source": [
    "b.shape\n"
   ]
  },
  {
   "cell_type": "code",
   "execution_count": 34,
   "metadata": {},
   "outputs": [
    {
     "data": {
      "text/plain": [
       "array([[ 2,  4,  6],\n",
       "       [ 8, 10, 12]])"
      ]
     },
     "execution_count": 34,
     "metadata": {},
     "output_type": "execute_result"
    }
   ],
   "source": [
    "a*b"
   ]
  },
  {
   "cell_type": "code",
   "execution_count": 37,
   "metadata": {},
   "outputs": [],
   "source": [
    "g= np.array([(2,3,8,9,19,11,20),(2,1,26,33,35,6,10)])\n",
    "h= np.array([14,2,44,88,55,32,11])"
   ]
  },
  {
   "cell_type": "code",
   "execution_count": 38,
   "metadata": {},
   "outputs": [
    {
     "data": {
      "text/plain": [
       "array([[  28,    6,  352,  792, 1045,  352,  220],\n",
       "       [  28,    2, 1144, 2904, 1925,  192,  110]])"
      ]
     },
     "execution_count": 38,
     "metadata": {},
     "output_type": "execute_result"
    }
   ],
   "source": [
    "g*h"
   ]
  },
  {
   "cell_type": "code",
   "execution_count": null,
   "metadata": {},
   "outputs": [],
   "source": [
    "\"\"\"\n",
    "   Comments from Praveen:\n",
    "   \n",
    "   1) find the details about collections data structure. This is last point.\n",
    "   2) document the how and when to use collections ?\n",
    "   3) What is meaning of hashable data structure ?\n",
    "   4) Difference between dictionary, list and tuples.\n",
    "   5) How is collections related to dictionary data structure.\n",
    "   6) Document all the answers in github doc folder.\n",
    "   \n",
    "   Fyi:  While explanation in doc also give examples. Execute them in jupyter. Documentation must be in Jupyter. Heading of Jupyter\n",
    "   is Data structures in Python.\n",
    "   \n",
    "   ---> Pointers to start answering above questions:\n",
    "   \n",
    "   First look at python basic data structure --> Dictionary, tuple, lists.\n",
    "   \n",
    "   \n",
    "   \n",
    "\n",
    "\"\"\""
   ]
  },
  {
   "cell_type": "code",
   "execution_count": 1,
   "metadata": {},
   "outputs": [
    {
     "ename": "SyntaxError",
     "evalue": "invalid syntax (<ipython-input-1-fb795f5a9e76>, line 1)",
     "output_type": "error",
     "traceback": [
      "\u001b[1;36m  File \u001b[1;32m\"<ipython-input-1-fb795f5a9e76>\"\u001b[1;36m, line \u001b[1;32m1\u001b[0m\n\u001b[1;33m    dictionary - unordered.\u001b[0m\n\u001b[1;37m                           ^\u001b[0m\n\u001b[1;31mSyntaxError\u001b[0m\u001b[1;31m:\u001b[0m invalid syntax\n"
     ]
    }
   ],
   "source": [
    "dictionary - unordered.\n",
    "tuple - immutable, less space, less time.\n",
    "lists - mutable, ordered . More space, more time. Can include any data types."
   ]
  },
  {
   "cell_type": "code",
   "execution_count": 1,
   "metadata": {},
   "outputs": [
    {
     "ename": "TypeError",
     "evalue": "'tuple' object does not support item assignment",
     "output_type": "error",
     "traceback": [
      "\u001b[1;31m---------------------------------------------------------------------------\u001b[0m",
      "\u001b[1;31mTypeError\u001b[0m                                 Traceback (most recent call last)",
      "\u001b[1;32m<ipython-input-1-88c1a320f616>\u001b[0m in \u001b[0;36m<module>\u001b[1;34m()\u001b[0m\n\u001b[0;32m     14\u001b[0m \u001b[0mTupleData\u001b[0m \u001b[1;33m=\u001b[0m \u001b[1;33m(\u001b[0m\u001b[1;36m1\u001b[0m\u001b[1;33m,\u001b[0m\u001b[1;36m2\u001b[0m\u001b[1;33m,\u001b[0m\u001b[1;36m3\u001b[0m\u001b[1;33m)\u001b[0m\u001b[1;33m\u001b[0m\u001b[0m\n\u001b[0;32m     15\u001b[0m \u001b[1;33m\u001b[0m\u001b[0m\n\u001b[1;32m---> 16\u001b[1;33m \u001b[0mTupleData\u001b[0m\u001b[1;33m[\u001b[0m\u001b[1;36m0\u001b[0m\u001b[1;33m]\u001b[0m \u001b[1;33m=\u001b[0m \u001b[1;36m1\u001b[0m\u001b[1;33m\u001b[0m\u001b[0m\n\u001b[0m\u001b[0;32m     17\u001b[0m \u001b[1;33m\u001b[0m\u001b[0m\n\u001b[0;32m     18\u001b[0m \u001b[1;33m\u001b[0m\u001b[0m\n",
      "\u001b[1;31mTypeError\u001b[0m: 'tuple' object does not support item assignment"
     ]
    }
   ],
   "source": [
    "\"\"\"\n",
    "List is a ordered data type. Ordered means elements are arranged in the consecutive elements.\n",
    "\n",
    "\"\"\"\n",
    "ListData = [1, 2, 3, 4]\n",
    "\n",
    "ListData[0]\n",
    "ListData[1]\n",
    "\n",
    "\"\"\"\n",
    "Tuple is non mutable datatype\n",
    "\"\"\"\n",
    "\n",
    "TupleData = (1,2,3)\n",
    "\n",
    "TupleData[0] = 1\n",
    "\n",
    "\n",
    "\n"
   ]
  },
  {
   "cell_type": "code",
   "execution_count": null,
   "metadata": {},
   "outputs": [],
   "source": []
  }
 ],
 "metadata": {
  "kernelspec": {
   "display_name": "Python 3",
   "language": "python",
   "name": "python3"
  },
  "language_info": {
   "codemirror_mode": {
    "name": "ipython",
    "version": 3
   },
   "file_extension": ".py",
   "mimetype": "text/x-python",
   "name": "python",
   "nbconvert_exporter": "python",
   "pygments_lexer": "ipython3",
   "version": "3.7.0"
  }
 },
 "nbformat": 4,
 "nbformat_minor": 2
}
