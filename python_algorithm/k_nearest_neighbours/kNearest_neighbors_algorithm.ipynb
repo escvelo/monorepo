{
 "cells": [
  {
   "cell_type": "code",
   "execution_count": 1,
   "metadata": {},
   "outputs": [
    {
     "name": "stdout",
     "output_type": "stream",
     "text": [
      "predicted result = cat\n"
     ]
    }
   ],
   "source": [
    "import math\n",
    "import numpy as np\n",
    "import collections\n",
    "from collections import Counter\n",
    "\n",
    "dog_data=[2,3,4,5,15,19,20]\n",
    "dog_labels=[0,0,0,0,0,0,0]\n",
    "cat_data=[6,7,8,9,13,11,16]\n",
    "cat_labels=[1,1,1,1,1,1,1]\n",
    "\n",
    "\n",
    "K=3\n",
    "train_data=np.array([2,3,8,9,19,11,20])\n",
    "train_labels=np.array([0,0,1,1,0,1,0])\n",
    "test_data=np.array([7])\n",
    "\n",
    "\n",
    "\n",
    "def knn_algo(test_data,K):\n",
    "    # euclidean distances from test data point to all train data points\n",
    "    euclidean_dist = np.sqrt( np.array( test_data-train_data )**2 ) \n",
    "     \n",
    "    knearest_labels = train_labels[ np.argsort(euclidean_dist)[0:K] ] # knearest_train_labels would be better\n",
    "    \n",
    "    sorted_eu_dist = np.sort(euclidean_dist) # distance has to be plural if list\n",
    "    counted_labels = collections.Counter(knearest_labels)  #https://pymotw.com/2/collections/counter.html\n",
    "    result = max(counted_labels, key=counted_labels.get)\n",
    "\n",
    "#     print(\"Array of Euclidean Distances= \",euclidean_dist)\n",
    "#     print(\"Train Labels\", train_labels)\n",
    "#     print(\"Sorted =\",sorted_eu_dist)\n",
    "#     print(\"Corresponding Labels when k=3  \",knearest_labels)\n",
    "#     print(\"Counted labels=\",counted_labels)\n",
    "#     print(result)\n",
    "    \n",
    "    if result==0:\n",
    "        print(\"predicted result = {}\".format(\"dog\"))\n",
    "    else:\n",
    "        print(\"predicted result = {}\".format(\"cat\"))\n",
    "\n",
    "knn_algo(test_data,K)"
   ]
  }
 ],
 "metadata": {
  "kernelspec": {
   "display_name": "Python 3",
   "language": "python",
   "name": "python3"
  },
  "language_info": {
   "codemirror_mode": {
    "name": "ipython",
    "version": 3
   },
   "file_extension": ".py",
   "mimetype": "text/x-python",
   "name": "python",
   "nbconvert_exporter": "python",
   "pygments_lexer": "ipython3",
   "version": "3.7.0"
  }
 },
 "nbformat": 4,
 "nbformat_minor": 2
}
