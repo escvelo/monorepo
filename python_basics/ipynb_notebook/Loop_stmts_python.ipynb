{
 "cells": [
  {
   "cell_type": "code",
   "execution_count": 1,
   "metadata": {},
   "outputs": [
    {
     "name": "stdout",
     "output_type": "stream",
     "text": [
      "White\n",
      "Red\n",
      "Yellow\n",
      "Green\n"
     ]
    }
   ],
   "source": [
    "\"\"\"\n",
    "Loop ststements are used to execute set of statements, iterating once at each item.\n",
    "'for' loop is used to iterate over these set of statements.\n",
    "'for' is a keyword in python\n",
    "Example: Looping through the below list of colours\n",
    "\"\"\"\n",
    "colours = [\"White\", \"Red\", \"Yellow\", \"Green\"]\n",
    "for colour in colours:\n",
    "    print(colour)"
   ]
  },
  {
   "cell_type": "code",
   "execution_count": 4,
   "metadata": {},
   "outputs": [
    {
     "name": "stdout",
     "output_type": "stream",
     "text": [
      "P\n",
      "u\n",
      "r\n",
      "p\n",
      "l\n",
      "e\n"
     ]
    }
   ],
   "source": [
    "\"\"\"\n",
    "Looping through a string:\n",
    "\"\"\"\n",
    "for letter in \"Purple\":\n",
    "    print(letter)"
   ]
  },
  {
   "cell_type": "code",
   "execution_count": 12,
   "metadata": {},
   "outputs": [
    {
     "name": "stdout",
     "output_type": "stream",
     "text": [
      "White\n",
      "Red\n",
      "Yellow\n"
     ]
    }
   ],
   "source": [
    "\"\"\"\n",
    "'break'statement is used to terminate the loop before looping through all the elements.\n",
    "Example:\n",
    "\"\"\"\n",
    "colours = [\"White\", \"Red\", \"Yellow\", \"Green\", \"Orange\"]\n",
    "for colour in colours:\n",
    "    print(colour)\n",
    "    if colour == \"Yellow\":\n",
    "        break\n"
   ]
  },
  {
   "cell_type": "code",
   "execution_count": 17,
   "metadata": {},
   "outputs": [
    {
     "name": "stdout",
     "output_type": "stream",
     "text": [
      "White\n",
      "Yellow\n",
      "Green\n",
      "Orange\n"
     ]
    }
   ],
   "source": [
    "\"\"\"\n",
    "with 'continue' statement we can stop the current iteration and move to the next element.\n",
    "Example:\n",
    "\"\"\"\n",
    "colours = [\"White\", \"Red\", \"Yellow\", \"Green\", \"Orange\"]\n",
    "for colour in colours:\n",
    "    if colour == \"Red\":\n",
    "        continue\n",
    "    print(colour)"
   ]
  },
  {
   "cell_type": "code",
   "execution_count": 18,
   "metadata": {},
   "outputs": [
    {
     "name": "stdout",
     "output_type": "stream",
     "text": [
      "1\n",
      "4\n",
      "7\n",
      "10\n",
      "13\n",
      "16\n",
      "19\n"
     ]
    }
   ],
   "source": [
    "\"\"\"\n",
    "range() function is used to loop through specified number of times in a set of statements.\n",
    "The range() function returns a sequence of numbers, starting from 0 by default,\n",
    "incremented by (1 by default and can be altered) and ends with a specified number.\n",
    "\n",
    "syntax:\n",
    "range(start, stop, step)\n",
    "\n",
    "\n",
    "start: Optional. An integer number specifying at which position to start. Default is 0\n",
    "stop:  Optional. An integer number specifying at which position to end.\n",
    "step:  Optional. An integer number specifying the incrementation. Default is 1\n",
    "\n",
    "Example:\n",
    "\"\"\"\n",
    "x = range(1, 20, 3)\n",
    "for i in x:\n",
    "  print(i)"
   ]
  },
  {
   "cell_type": "code",
   "execution_count": 20,
   "metadata": {},
   "outputs": [
    {
     "name": "stdout",
     "output_type": "stream",
     "text": [
      "red apple\n",
      "red banana\n",
      "red cherry\n",
      "red grapes\n",
      "yellow apple\n",
      "yellow banana\n",
      "yellow cherry\n",
      "yellow grapes\n",
      "purple apple\n",
      "purple banana\n",
      "purple cherry\n",
      "purple grapes\n"
     ]
    }
   ],
   "source": [
    "\"\"\"\n",
    "Nested loops: Inner loop is executed one time at each Outer loop execution.\n",
    "Example:\n",
    "\"\"\"\n",
    "\n",
    "colours = [\"red\", \"yellow\", \"purple\"]\n",
    "fruits = [\"apple\", \"banana\", \"cherry\",\"grapes\"]\n",
    "\n",
    "for x in colours:\n",
    "  for y in fruits:\n",
    "    print(x, y)"
   ]
  },
  {
   "cell_type": "code",
   "execution_count": null,
   "metadata": {},
   "outputs": [],
   "source": []
  }
 ],
 "metadata": {
  "kernelspec": {
   "display_name": "Python 3",
   "language": "python",
   "name": "python3"
  },
  "language_info": {
   "codemirror_mode": {
    "name": "ipython",
    "version": 3
   },
   "file_extension": ".py",
   "mimetype": "text/x-python",
   "name": "python",
   "nbconvert_exporter": "python",
   "pygments_lexer": "ipython3",
   "version": "3.7.0"
  }
 },
 "nbformat": 4,
 "nbformat_minor": 2
}
