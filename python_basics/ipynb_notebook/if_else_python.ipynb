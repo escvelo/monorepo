{
 "cells": [
  {
   "cell_type": "code",
   "execution_count": 7,
   "metadata": {},
   "outputs": [
    {
     "name": "stdout",
     "output_type": "stream",
     "text": [
      "Biggest number is 30\n"
     ]
    }
   ],
   "source": [
    "\"\"\"   \n",
    "if-else is a conditional statement in python.\n",
    "if statement is written using 'if' keyword.\n",
    "Example:\n",
    "\"\"\"\n",
    "\n",
    "firstnumber = 30\n",
    "secondnumber = 20\n",
    "if(firstnumber > secondnumber):\n",
    "    print(\"Biggest number is\", firstnumber)    # note that indentation is very important. Otherwise gives an error.\n",
    "  "
   ]
  },
  {
   "cell_type": "code",
   "execution_count": 9,
   "metadata": {},
   "outputs": [
    {
     "name": "stdout",
     "output_type": "stream",
     "text": [
      "Both numbers are equal\n"
     ]
    }
   ],
   "source": [
    "\"\"\" \n",
    "There is one more keyword in python 'elif'.\n",
    "The job of 'elif' is that \"it checks the previous condition, if it fails then try this condition\" \n",
    "Example:\n",
    "\"\"\"\n",
    "firstnumber = 30\n",
    "secondnumber = 30\n",
    "if(firstnumber > secondnumber):\n",
    "    print(\"Biggest number is\", firstnumber)    \n",
    "elif (firstnumber==secondnumber ):\n",
    "    print(\"Both numbers are equal\")\n"
   ]
  },
  {
   "cell_type": "code",
   "execution_count": 8,
   "metadata": {},
   "outputs": [
    {
     "name": "stdout",
     "output_type": "stream",
     "text": [
      "Biggest number is 50\n"
     ]
    }
   ],
   "source": [
    "\"\"\"\n",
    "The other conditional statement in python is 'else'.\n",
    "'else' block catches the condition which were not caught previously.\n",
    "Example:\n",
    "\"\"\"\n",
    "firstnumber = 30\n",
    "secondnumber = 50\n",
    "if(firstnumber > secondnumber):\n",
    "    print(\"Biggest number is\", firstnumber)    \n",
    "elif (firstnumber==secondnumber ):\n",
    "    print(\"Both are equal\")\n",
    "else:\n",
    "    print(\"Biggest number is\", secondnumber)    \n",
    "    \n"
   ]
  }
 ],
 "metadata": {
  "kernelspec": {
   "display_name": "Python 3",
   "language": "python",
   "name": "python3"
  },
  "language_info": {
   "codemirror_mode": {
    "name": "ipython",
    "version": 3
   },
   "file_extension": ".py",
   "mimetype": "text/x-python",
   "name": "python",
   "nbconvert_exporter": "python",
   "pygments_lexer": "ipython3",
   "version": "3.7.0"
  }
 },
 "nbformat": 4,
 "nbformat_minor": 2
}
