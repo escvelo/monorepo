{
 "cells": [
  {
   "cell_type": "markdown",
   "metadata": {},
   "source": [
    "#   LISTS, TUPLES and DICTIONARIES\n"
   ]
  },
  {
   "cell_type": "markdown",
   "metadata": {},
   "source": [
    "  Data is very important piece of unit on which languages operates and modify. Data could be in form of text file, video, audio that one could see in folders of computer. Python follows object oriented paradigm. Now what is object ? Object could be thought as an encapsulation over data. It holds property of any data and provides the methods to modify it. For example, consider a light bulb in room. It has internal property like ON/OFF. So the object bulb has the data which takes the value ON/OFF and provides the method to switch it ON/OFF its state.\n",
    "  \n",
    "Bulb:\n",
    "    internal state - > value = ON/OFF\n",
    "    function - > Switch (state = ON/OFF) : value = state \n",
    "       \n",
    " \n",
    " \n"
   ]
  },
  {
   "cell_type": "markdown",
   "metadata": {},
   "source": [
    "Built in collections.\n",
    "\n",
    "Ordered collections are of two types:\n",
    "    Lists and Tuples.\n",
    "Unordered collections are if two types:\n",
    "    Dictionary and Sets.\n",
    "    \n",
    "    "
   ]
  },
  {
   "cell_type": "markdown",
   "metadata": {},
   "source": [
    "## Ordered Collections - Lists, Strings and Tuples"
   ]
  },
  {
   "cell_type": "markdown",
   "metadata": {},
   "source": [
    "### 1) Lists"
   ]
  },
  {
   "cell_type": "code",
   "execution_count": 1,
   "metadata": {},
   "outputs": [
    {
     "name": "stdout",
     "output_type": "stream",
     "text": [
      "0\n"
     ]
    }
   ],
   "source": [
    "# Empty list could be defined using []\n",
    "\n",
    "empty_list = []\n",
    "\n",
    "print ( len(empty_list) )"
   ]
  },
  {
   "cell_type": "code",
   "execution_count": 2,
   "metadata": {},
   "outputs": [],
   "source": [
    "# Lists are ordered collections of one or more references to objects.\n",
    "\n",
    "\n",
    "example_list = [0, 1, 3, 4]\n",
    "\n",
    "# List could contain heterogenous collections of objects. \n",
    "\n",
    "heterogenous_list = [ 0, \"String\", 10.8, True ]\n",
    "\n"
   ]
  },
  {
   "cell_type": "markdown",
   "metadata": {},
   "source": [
    "Now what are ordered collections actually mean ? \n",
    "\n",
    "Following are the methods which act on python sequences:\n",
    "\n",
    "| Operation name | Operator | Explanation |\n",
    "| --- | --- | --- |\n",
    "| indexing | [ ] | Access an element of a sequence |\n",
    "|concatenation|\t+\t|Combine sequences together|\n",
    "|repetition|\t*\t|Concatenate a repeated number of times|\n",
    "|membership|\tin\t|Ask whether an item is in a sequence|\n",
    "|length\t|len\t|Ask the number of items in the sequence|\n",
    "|slicing|\t[ : ]\t|Extract a part of a sequence|\n",
    "\n",
    "\n",
    "\n"
   ]
  },
  {
   "cell_type": "code",
   "execution_count": 3,
   "metadata": {},
   "outputs": [
    {
     "name": "stdout",
     "output_type": "stream",
     "text": [
      "hi\n",
      "['hi', 5, 'elem', 5.6, 'bye', 6, True]\n",
      "[0, 0, 0, 0, 0, 0, 0, 0]\n",
      "True\n",
      "4\n",
      "['hi', 5]\n"
     ]
    }
   ],
   "source": [
    "# List are are called ordered because they are sequentially arranged. And indexing start with element 0\n",
    "list1 = ['hi', 5, 'elem', 5.6]\n",
    "list2 = ['bye', 6, True]\n",
    "print ( list1[0] ) # indexing starts with element 0\n",
    "print ( list1 + list2 ) # concatenation\n",
    "print ( [0] * 8 )  # 8 times repeated zeros\n",
    "print ( 'hi' in list1 ) # membership in\n",
    "print ( len(list1) )  # len method\n",
    "print ( list1[0:2] ) # slicing"
   ]
  },
  {
   "cell_type": "code",
   "execution_count": 4,
   "metadata": {},
   "outputs": [
    {
     "name": "stdout",
     "output_type": "stream",
     "text": [
      "['hi', 5, 'elem', 5.6]\n",
      "['hi', 5, 'elem', 93]\n",
      "[['hi', 5, 'elem', 93], ['hi', 5, 'elem', 93], ['hi', 5, 'elem', 93]]\n",
      "[['modified', 5, 'elem', 93], ['modified', 5, 'elem', 93], ['modified', 5, 'elem', 93]]\n"
     ]
    }
   ],
   "source": [
    "# Elements of Lists could be modified using index number\n",
    "\n",
    "list1 = ['hi', 5, 'elem', 5.6]\n",
    "print (list1)\n",
    "list1[3] = 93\n",
    "print (list1)\n",
    "\n",
    "# list holds the references of object. \n",
    "\n",
    "repeated_references_to_list1 = [list1] * 3\n",
    "print (repeated_references_to_list1)\n",
    "\n",
    "\"\"\" \n",
    "    repeated_references_to_list1 --> holds the reference to list1.\n",
    "    Now change to one element in list1 will get reflected to all three elements in \"repeated_references_to_list1\"\n",
    "\"\"\"\n",
    "\n",
    "list1[0] = 'modified'\n",
    "print (repeated_references_to_list1)\n",
    "\n"
   ]
  },
  {
   "cell_type": "markdown",
   "metadata": {},
   "source": [
    "Lists supports number of methods:\n",
    "\n",
    "|Method Name|Use|Explanation|\n",
    "| --- | --- | --- |\n",
    "|append|alist.append(item)|Adds a new item to the end of a list|\n",
    "|insert|alist.insert(i,item)|Inserts an item at the ith position in a list|\n",
    "|pop|alist.pop()|Removes and returns the last item in a list|\n",
    "|pop|alist.pop(i)|Removes and returns the ith item in a list|\n",
    "|sort|alist.sort()|Modifies a list to be sorted|\n",
    "|reverse|alist.reverse()|Modifies a list to be in reverse order|\n",
    "|del|del alist[i]|Deletes the item in the ith position|\n",
    "|index|alist.index(item)|Returns the index of the first occurrence of item|\n",
    "|count|alist.count(item)|Returns the number of occurrences of item|\n",
    "|remove|alist.remove(item)|Removes the first occurrence of item|"
   ]
  },
  {
   "cell_type": "code",
   "execution_count": 5,
   "metadata": {},
   "outputs": [
    {
     "name": "stdout",
     "output_type": "stream",
     "text": [
      "[1024, 3, True, 6.5, False]\n",
      "[1024, 3, 4.5, True, 6.5, False]\n",
      "False\n",
      "[1024, 3, 4.5, True, 6.5]\n",
      "3\n",
      "[1024, 4.5, True, 6.5]\n",
      "[1024, 4.5, 6.5]\n",
      "[4.5, 6.5, 1024]\n",
      "[1024, 6.5, 4.5]\n",
      "1\n",
      "2\n",
      "[1024, 4.5]\n",
      "[4.5]\n"
     ]
    }
   ],
   "source": [
    "List =   [1024, 3, True, 6.5]\n",
    "List.append(False)\n",
    "print(List)\n",
    "List.insert(2,4.5)\n",
    "print(List)\n",
    "print(List.pop())\n",
    "print(List)\n",
    "print(List.pop(1))\n",
    "print(List)\n",
    "List.pop(2)\n",
    "print(List)\n",
    "List.sort()\n",
    "print(List)\n",
    "List.reverse()\n",
    "print(List)\n",
    "print(List.count(6.5))\n",
    "print(List.index(4.5))\n",
    "List.remove(6.5)\n",
    "print(List)\n",
    "del List[0]\n",
    "print(List)"
   ]
  },
  {
   "cell_type": "code",
   "execution_count": null,
   "metadata": {},
   "outputs": [],
   "source": []
  }
 ],
 "metadata": {
  "kernelspec": {
   "display_name": "Python 3",
   "language": "python",
   "name": "python3"
  },
  "language_info": {
   "codemirror_mode": {
    "name": "ipython",
    "version": 3
   },
   "file_extension": ".py",
   "mimetype": "text/x-python",
   "name": "python",
   "nbconvert_exporter": "python",
   "pygments_lexer": "ipython3",
   "version": "3.7.0"
  }
 },
 "nbformat": 4,
 "nbformat_minor": 2
}
