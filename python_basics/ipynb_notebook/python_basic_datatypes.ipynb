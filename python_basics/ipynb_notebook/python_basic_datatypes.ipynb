{
 "cells": [
  {
   "cell_type": "code",
   "execution_count": null,
   "metadata": {},
   "outputs": [],
   "source": [
    "\"\"\"\n",
    "Variables:  \n",
    "    In a computer language, a variable is nothing but a storage box. \n",
    "    It is a place holder which is used to refer to some information. \n",
    "    These storage boxes are used according to the user needs. \n",
    "    In some languages like C, C++, Java etc one must declare the data type of that variable. \n",
    "    Since Python is dynamically typed, we don't have to declare the data type of a variable. \n",
    "    Python does it for us. A variable must have a name so that you can refer to it whenever required. \n",
    "    You cannot use reserved words for a variable. \n",
    "    \n",
    "\"\"\""
   ]
  },
  {
   "cell_type": "code",
   "execution_count": 2,
   "metadata": {},
   "outputs": [],
   "source": [
    "\"\"\"\n",
    "A variable name is case sensitive in python. \n",
    "That is: VariableName , variablename, VARIABLENAME are all different. \n",
    "So choose the name which is more meaningful and understandable.  \n",
    "    Below is the list of some variable types:\n",
    "\"\"\"\n",
    "\n",
    "value = 5                # Integer\n",
    "Characters = \"acbdef\"    # String\n",
    "value = 48.06            # Float\n",
    "values = [ 1,2,3,'list'] # List\n",
    "values = (1,2,3,'tuple') # Tuple\n",
    "        "
   ]
  },
  {
   "cell_type": "code",
   "execution_count": 3,
   "metadata": {},
   "outputs": [],
   "source": [
    "\"\"\"\n",
    "Constants: As the name itself indicate, constants are non-changeable. \n",
    "That is, the entity or a value it holds cannot be changed. \n",
    "Usually, constants are named in capital letters or with underscore(_) to separate the words.\n",
    " \n",
    "\"\"\"\n",
    "VALUE = 30\n",
    "RADIUS_OF_CIRCLE = 25"
   ]
  }
 ],
 "metadata": {
  "kernelspec": {
   "display_name": "Python 3",
   "language": "python",
   "name": "python3"
  },
  "language_info": {
   "codemirror_mode": {
    "name": "ipython",
    "version": 3
   },
   "file_extension": ".py",
   "mimetype": "text/x-python",
   "name": "python",
   "nbconvert_exporter": "python",
   "pygments_lexer": "ipython3",
   "version": "3.7.0"
  }
 },
 "nbformat": 4,
 "nbformat_minor": 2
}
