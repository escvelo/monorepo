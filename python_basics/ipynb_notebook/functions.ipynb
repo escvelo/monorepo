{
 "cells": [
  {
   "cell_type": "code",
   "execution_count": 6,
   "metadata": {},
   "outputs": [
    {
     "name": "stdout",
     "output_type": "stream",
     "text": [
      "Hello world!\n"
     ]
    }
   ],
   "source": [
    "\"\"\"\n",
    "Functions are nothing but a block of code. It executes when the function is called.\n",
    "First the function should be defined using keyword called 'def'. Then the function should be called to execute it.\n",
    "Example: creation of simple function:\n",
    "\"\"\" \n",
    "def function():\n",
    "    print(\"Hello world!\")\n",
    "    \n",
    "function()"
   ]
  },
  {
   "cell_type": "code",
   "execution_count": 7,
   "metadata": {},
   "outputs": [
    {
     "name": "stdout",
     "output_type": "stream",
     "text": [
      "Hello\n",
      "World!\n"
     ]
    }
   ],
   "source": [
    "\"\"\" \n",
    "Arguments which are also known as parameters can be passed to a function. Any data type can be passed as a parameter. \n",
    "Arguments are stated after a function name and within paranthesis. \n",
    "Any number of parameters can be passed to a function which should be seperated by a comma.\n",
    "\n",
    "Example: Function with one parameter. \n",
    "\"\"\" \n",
    "def function(name):\n",
    "    print(name)\n",
    "    \n",
    "function(\"Hello\")\n",
    "function(\"World!\")"
   ]
  },
  {
   "cell_type": "code",
   "execution_count": 10,
   "metadata": {},
   "outputs": [
    {
     "name": "stdout",
     "output_type": "stream",
     "text": [
      "This is Tiger\n",
      "This is Horse\n",
      "This is Cat\n"
     ]
    }
   ],
   "source": [
    "\"\"\" \n",
    "Function with a default parameter value.\n",
    "Example: Note that when the function is called without any parameter, it takes the default one.\n",
    "\"\"\" \n",
    "def function(animal = \"Horse\"):\n",
    "    print(\"This is \" + animal)\n",
    "    \n",
    "function(\"Tiger\")\n",
    "function()\n",
    "function(\"Cat\")"
   ]
  },
  {
   "cell_type": "code",
   "execution_count": 11,
   "metadata": {},
   "outputs": [
    {
     "name": "stdout",
     "output_type": "stream",
     "text": [
      "Red\n",
      "Pink\n",
      "Green\n",
      "Yellow\n"
     ]
    }
   ],
   "source": [
    "\"\"\" \n",
    "Passing a list as a parameter to a function.\n",
    "Example: \n",
    "\"\"\" \n",
    "def function(colours):\n",
    "    for color in colours:\n",
    "        print(color)\n",
    "        \n",
    "different_colors = [\"Red\",\"Pink\",\"Green\",\"Yellow\"]\n",
    "function(different_colors)\n"
   ]
  },
  {
   "cell_type": "code",
   "execution_count": 16,
   "metadata": {},
   "outputs": [
    {
     "name": "stdout",
     "output_type": "stream",
     "text": [
      "50\n"
     ]
    },
    {
     "data": {
      "text/plain": [
       "100"
      ]
     },
     "execution_count": 16,
     "metadata": {},
     "output_type": "execute_result"
    }
   ],
   "source": [
    "\"\"\" \n",
    "Functions can return values. To get the value, use 'return' keyword.\n",
    "Example:\n",
    "\"\"\" \n",
    "def function(number):\n",
    "    return number*5\n",
    "\n",
    "print(function(10))\n",
    "function(20)"
   ]
  },
  {
   "cell_type": "code",
   "execution_count": null,
   "metadata": {},
   "outputs": [],
   "source": [
    "\"\"\" \n",
    "Recursion is a method of calling a function by itself. That is, a function can call itself.\n",
    "Example:\n",
    "\"\"\" "
   ]
  }
 ],
 "metadata": {
  "kernelspec": {
   "display_name": "Python 3",
   "language": "python",
   "name": "python3"
  },
  "language_info": {
   "codemirror_mode": {
    "name": "ipython",
    "version": 3
   },
   "file_extension": ".py",
   "mimetype": "text/x-python",
   "name": "python",
   "nbconvert_exporter": "python",
   "pygments_lexer": "ipython3",
   "version": "3.7.0"
  }
 },
 "nbformat": 4,
 "nbformat_minor": 2
}
